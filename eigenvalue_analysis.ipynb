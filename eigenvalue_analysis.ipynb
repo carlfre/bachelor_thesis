{
 "cells": [
  {
   "cell_type": "code",
   "execution_count": 3,
   "metadata": {},
   "outputs": [],
   "source": [
    "import numpy as np\n",
    "import matplotlib.pyplot as plt"
   ]
  },
  {
   "cell_type": "code",
   "execution_count": 4,
   "metadata": {},
   "outputs": [],
   "source": [
    "def create_K_alpha(alpha):\n",
    "    def K(x, y):\n",
    "        x+=1\n",
    "        y+=1\n",
    "        return (1 / np.sqrt(x*y)) * ((x*y)**alpha / np.maximum(x, y)**(2*alpha))\n",
    "    return K\n",
    "\n",
    "def create_A(alpha, N):\n",
    "    K_alpha = create_K_alpha(alpha)\n",
    "\n",
    "    A = np.fromfunction(K_alpha, (N, N))\n",
    "    return A\n",
    "\n"
   ]
  },
  {
   "cell_type": "code",
   "execution_count": 5,
   "metadata": {},
   "outputs": [
    {
     "name": "stdout",
     "output_type": "stream",
     "text": [
      "[[1.         0.35355339 0.19245009 0.125      0.08944272]\n",
      " [0.35355339 0.5        0.27216553 0.1767767  0.12649111]\n",
      " [0.19245009 0.27216553 0.33333333 0.21650635 0.15491933]\n",
      " [0.125      0.1767767  0.21650635 0.25       0.17888544]\n",
      " [0.08944272 0.12649111 0.15491933 0.17888544 0.2       ]]\n"
     ]
    }
   ],
   "source": [
    "example_matrix = create_A(1, 5)\n",
    "print(example_matrix)\n"
   ]
  },
  {
   "cell_type": "code",
   "execution_count": 31,
   "metadata": {},
   "outputs": [],
   "source": [
    "N = 10000\n",
    "A = create_A(1, N)"
   ]
  },
  {
   "cell_type": "code",
   "execution_count": 32,
   "metadata": {},
   "outputs": [],
   "source": [
    "eigvals, eigvecs = np.linalg.eigh(A)"
   ]
  },
  {
   "cell_type": "code",
   "execution_count": 33,
   "metadata": {},
   "outputs": [
    {
     "name": "stdout",
     "output_type": "stream",
     "text": [
      "[ 0.01413097 -0.01412208 -0.0141148  ... -0.00257084  0.00185786\n",
      " -0.00097975]\n"
     ]
    },
    {
     "data": {
      "image/png": "[encoded data removed]",
      "text/plain": [
       "<Figure size 432x288 with 1 Axes>"
      ]
     },
     "metadata": {
      "needs_background": "light"
     },
     "output_type": "display_data"
    }
   ],
   "source": [
    "amax = np.argmax(eigvals)\n",
    "\n",
    "plt.plot(np.abs(eigvecs[amax]))\n",
    "print(eigvecs[amax])"
   ]
  },
  {
   "cell_type": "code",
   "execution_count": 34,
   "metadata": {},
   "outputs": [
    {
     "name": "stdout",
     "output_type": "stream",
     "text": [
      "1.8811602241580392\n"
     ]
    }
   ],
   "source": [
    "print(eigvals[amax])"
   ]
  }
 ],
 "metadata": {
  "kernelspec": {
   "display_name": "Python 3",
   "language": "python",
   "name": "python3"
  },
  "language_info": {
   "codemirror_mode": {
    "name": "ipython",
    "version": 3
   },
   "file_extension": ".py",
   "mimetype": "text/x-python",
   "name": "python",
   "nbconvert_exporter": "python",
   "pygments_lexer": "ipython3",
   "version": "3.10.6"
  },
  "orig_nbformat": 4
 },
 "nbformat": 4,
 "nbformat_minor": 2
}
