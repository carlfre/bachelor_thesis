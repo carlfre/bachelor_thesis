{
 "cells": [
  {
   "cell_type": "code",
   "execution_count": 1,
   "metadata": {},
   "outputs": [],
   "source": [
    "import numpy as np\n",
    "import matplotlib.pyplot as plt\n",
    "\n",
    "from scipy.special import zeta\n",
    "from scipy.optimize import linprog\n",
    "\n",
    "import seaborn as sns\n",
    "\n",
    "sns.set_theme()"
   ]
  },
  {
   "cell_type": "code",
   "execution_count": 2,
   "metadata": {},
   "outputs": [],
   "source": [
    "def create_K_alpha(alpha):\n",
    "    \"\"\"Returns the kernel function $K_alpha(m,n)$\"\"\"\n",
    "    def K(x, y):\n",
    "        x+=1\n",
    "        y+=1\n",
    "        return (1 / np.sqrt(x*y)) * ((x*y)**alpha / np.maximum(x, y)**(2*alpha))\n",
    "    return K\n",
    "\n",
    "def create_A(alpha, N):\n",
    "    \"\"\"Creates the matrix A with entries $A_{m,n} = K_alpha(m,n)$\"\"\"\n",
    "    K_alpha = create_K_alpha(alpha)\n",
    "\n",
    "    A = np.fromfunction(K_alpha, (N, N))\n",
    "    return A"
   ]
  },
  {
   "cell_type": "code",
   "execution_count": 281,
   "metadata": {},
   "outputs": [
    {
     "data": {
      "text/plain": [
       "1.4202637326070944"
      ]
     },
     "execution_count": 281,
     "metadata": {},
     "output_type": "execute_result"
    }
   ],
   "source": [
    "def lp(N, alpha, goal_fn = lambda alph: 2/alph):\n",
    "    \"\"\"Solves linear program specified by Schur test for the kernel $K_alpha$ truncated to N terms.\"\"\"\n",
    "    goal = goal_fn(alpha)\n",
    "\n",
    "    ms = np.arange(1, N+1)\n",
    "    truncated_zeta = zeta(alpha + 1) - sum(1/ms**(alpha+1))\n",
    "    ubs = -ms**(alpha - 1/2) * truncated_zeta\n",
    "\n",
    "    B = create_A(alpha, N) - np.diag(goal * np.ones(N))\n",
    "\n",
    "    c = ms**(alpha - 1/2) \n",
    "    res = linprog(c, A_ub=B, b_ub=ubs)\n",
    "    return c, res, ms\n",
    "\n",
    "\n",
    "def requirement(N, alpha, brevig_bound=False):\n",
    "    \"\"\"Gives upper bound on c @ x where x is the solution to the linear program. If it is not \n",
    "     an upper bound, then the full linear program is unfeasible. \"\"\"\n",
    "    if brevig_bound:\n",
    "        term1 = - alpha/6 * (N+1)**(alpha - 2) + (3-alpha)*(5-alpha)*(6-alpha)*(8+alpha)/(720*alpha)\n",
    "        term2 = sum(n**(alpha - 1) for n in range(1, N+1))\n",
    "        return term1 + term2\n",
    "    else:\n",
    "        ssum = zeta(alpha + 1) - sum(1/n**(alpha+1) for n in range(1, N+1))\n",
    "        return (N+1)**alpha * (2/alpha - (N+1)**(alpha) * ssum)\n",
    "\n",
    "# # print(res.x)\n",
    "\n",
    "# print(c @ res.x)\n",
    "# print(requirement(N, alpha))\n",
    "\n",
    "c, res, ms = lp(2, 1.5)\n",
    "\n",
    "# print(c)\n",
    "requirement(1, 1)\n",
    " "
   ]
  },
  {
   "cell_type": "code",
   "execution_count": 325,
   "metadata": {},
   "outputs": [],
   "source": [
    "def compare(N, alphas, brevig_bound=False):\n",
    "    \"\"\"returns list of c @ x and upper bounds for each alpha. If c @ x > upper bound, then the\n",
    "    full linear program is unfeasible.\"\"\"\n",
    "    reqs = []\n",
    "    found = []\n",
    "    for alpha in alphas:\n",
    "        c, res, ms = lp(N, alpha)\n",
    "        reqs.append(requirement(N, alpha, brevig_bound))\n",
    "        found.append(c @ res.x)\n",
    "\n",
    "    return reqs, found\n",
    "\n",
    "def find_intersection(N, alphas, brevig_bound=False):\n",
    "    \"\"\"Finds point of intersection for requirement, c@x. The ntersection is the point where \n",
    "    the linear program starts to fail in showing C_alpha = 2/alpha\"\"\"\n",
    "    reqs, found = compare(N, alphas, brevig_bound)\n",
    "\n",
    "    for i in range(len(reqs)):\n",
    "        if found[i] > reqs[i]:\n",
    "            if i == 0:\n",
    "                return None\n",
    "            else:\n",
    "                return alphas[i-1]\n",
    "    return None"
   ]
  },
  {
   "attachments": {},
   "cell_type": "markdown",
   "metadata": {},
   "source": [
    "Example showcasing what the intersection is"
   ]
  },
  {
   "cell_type": "code",
   "execution_count": 358,
   "metadata": {},
   "outputs": [],
   "source": [
    "N = 10\n",
    "alphas = np.linspace(1.5, 1.55, 20)\n",
    "reqs, found = compare(N, alphas)\n",
    "brevig_reqs, _ = compare(N, alphas, True)"
   ]
  },
  {
   "cell_type": "code",
   "execution_count": 294,
   "metadata": {},
   "outputs": [
    {
     "data": {
      "image/png": "[encoded data removed]",
      "text/plain": [
       "<Figure size 432x288 with 1 Axes>"
      ]
     },
     "metadata": {},
     "output_type": "display_data"
    },
    {
     "name": "stdout",
     "output_type": "stream",
     "text": [
      "Difference between zeta requirement, Brevig requirement: 6.75555675115902e-05\n"
     ]
    }
   ],
   "source": [
    "plt.plot(alphas, reqs, label=\"Requirement\")\n",
    "# plt.plot(alphas, brevig_reqs, label=\"Brevig Requirement\")\n",
    "plt.plot(alphas, found, label=\"Found\")\n",
    "\n",
    "plt.legend()\n",
    "plt.show()\n",
    "print(\"Difference between zeta requirement, Brevig requirement:\",\n",
    "      min([abs(x -y) for x, y in zip(reqs, brevig_reqs)]))"
   ]
  },
  {
   "attachments": {},
   "cell_type": "markdown",
   "metadata": {},
   "source": [
    "Search for intersection for different N-values"
   ]
  },
  {
   "cell_type": "code",
   "execution_count": 298,
   "metadata": {},
   "outputs": [
    {
     "name": "stdout",
     "output_type": "stream",
     "text": [
      ". . . . . . . . . . . . \n"
     ]
    }
   ],
   "source": [
    "N_list = [1, 2, 3, 4, 5, 10, 20, 50, 100, 200, 500, 1000]\n",
    "alpha_intersect_list = []\n",
    "for N in N_list:\n",
    "    alphas = np.linspace(1.45, 1.6, 1001)\n",
    "    alpha_intersect = find_intersection(N, alphas)\n",
    "    alpha_intersect_list.append(alpha_intersect)\n",
    "    print(\". \", end=\"\")\n",
    "print()"
   ]
  },
  {
   "cell_type": "code",
   "execution_count": 307,
   "metadata": {},
   "outputs": [
    {
     "name": "stdout",
     "output_type": "stream",
     "text": [
      "[1.5067, 1.51255, 1.5148, 1.516, 1.51645, 1.5175, 1.5178, 1.51795, 1.51795, 1.51795, 1.51795, 1.51795]\n"
     ]
    }
   ],
   "source": [
    "dalpha = alphas[1] - alphas[0]\n",
    "ub_alpha_intersect_list = [alpha + dalpha for alpha in alpha_intersect_list]\n",
    "print(alpha_intersect_list)"
   ]
  },
  {
   "cell_type": "code",
   "execution_count": 313,
   "metadata": {},
   "outputs": [
    {
     "name": "stdout",
     "output_type": "stream",
     "text": [
      "\\begin{tabular}{c c}\n",
      "N & $\\alpha$-interval\\\\\n",
      "\\hline\n",
      "1 & $[1.50670, 1.50685]$ \\\\\n",
      "2 & $[1.51255, 1.51270]$ \\\\\n",
      "3 & $[1.51480, 1.51495]$ \\\\\n",
      "4 & $[1.51600, 1.51615]$ \\\\\n",
      "5 & $[1.51645, 1.51660]$ \\\\\n",
      "10 & $[1.51750, 1.51765]$ \\\\\n",
      "20 & $[1.51780, 1.51795]$ \\\\\n",
      "50 & $[1.51795, 1.51810]$ \\\\\n",
      "100 & $[1.51795, 1.51810]$ \\\\\n",
      "200 & $[1.51795, 1.51810]$ \\\\\n",
      "500 & $[1.51795, 1.51810]$ \\\\\n",
      "1000 & $[1.51795, 1.51810]$ \\\\\n",
      "\\end{tabular}\n"
     ]
    }
   ],
   "source": [
    "# print lower and upper bounds in latex table format\n",
    "print(\"\\\\begin{tabular}{c c}\")\n",
    "print(\"N & $\\\\alpha$-interval\\\\\\\\\")\n",
    "print(\"\\\\hline\")\n",
    "for N, alpha, ub_alpha in zip(N_list, alpha_intersect_list, ub_alpha_intersect_list):\n",
    "    print(f\"{N} & $[{alpha:.5f}, {ub_alpha:.5f}]$ \\\\\\\\\")\n",
    "print(\"\\\\end{tabular}\")"
   ]
  },
  {
   "attachments": {},
   "cell_type": "markdown",
   "metadata": {},
   "source": [
    "Finegrained search for intersection"
   ]
  },
  {
   "cell_type": "code",
   "execution_count": 326,
   "metadata": {},
   "outputs": [
    {
     "name": "stdout",
     "output_type": "stream",
     "text": [
      "1.51795 1.5181\n",
      ". . . . . . . . . . . . \n"
     ]
    }
   ],
   "source": [
    "alpha_lb = alpha_intersect_list[-1]\n",
    "alpha_ub = ub_alpha_intersect_list[-1]\n",
    "alphas = np.linspace(alpha_lb, alpha_ub, 1001)\n",
    "print(min(alphas), max(alphas))\n",
    "\n",
    "N_list = [1, 2, 3, 4, 5, 10, 20, 50, 100, 200, 500, 1000]\n",
    "alpha_int_list_2 = []\n",
    "for N in N_list:\n",
    "    alpha_int = find_intersection(N, alphas)\n",
    "    alpha_int_list_2.append(alpha_int)\n",
    "    print(\". \", end=\"\")\n",
    "print()"
   ]
  },
  {
   "cell_type": "code",
   "execution_count": 329,
   "metadata": {},
   "outputs": [
    {
     "name": "stdout",
     "output_type": "stream",
     "text": [
      "[None, None, None, None, None, None, None, 1.5179707, 1.51798525, 1.517989, 1.5179900499999999, 1.5179901999999998]\n",
      "[None, None, None, None, None, None, None, 1.51797085, 1.5179854, 1.51798915, 1.5179901999999998, 1.5179903499999998]\n",
      "[1.51795    1.51795015 1.5179503  ... 1.5180997  1.51809985 1.5181    ]\n"
     ]
    }
   ],
   "source": [
    "dalpha = alphas[1] - alphas[0]\n",
    "ub_alpha_int_list_2 = []\n",
    "for alpha in alpha_int_list_2:\n",
    "    if alpha is not None:\n",
    "        ub_alpha_int_list_2.append(alpha + dalpha)\n",
    "    else:\n",
    "        ub_alpha_int_list_2.append(None)\n",
    "print(alpha_int_list_2)\n",
    "print(ub_alpha_int_list_2)\n",
    "print(alphas)"
   ]
  },
  {
   "cell_type": "code",
   "execution_count": 343,
   "metadata": {},
   "outputs": [
    {
     "name": "stdout",
     "output_type": "stream",
     "text": [
      "\\begin{tabular}{c c}\n",
      "N & $\\alpha$-interval\\\\\n",
      "\\hline\n",
      "50 & $(1.51797070, 1.51797085]$ \\\\\n",
      "100 & $(1.51798525, 1.51798540]$ \\\\\n",
      "200 & $(1.51798900, 1.51798915]$ \\\\\n",
      "500 & $(1.51799005, 1.51799020]$ \\\\\n",
      "1000 & $(1.51799020, 1.51799035]$ \\\\\n",
      "\\end{tabular}\n"
     ]
    }
   ],
   "source": [
    "# print values that are not none in latex table format\n",
    "print(\"\\\\begin{tabular}{c c}\")\n",
    "print(\"N & $\\\\alpha$-interval\\\\\\\\\")\n",
    "print(\"\\\\hline\")\n",
    "for N, alpha, ub_alpha in zip(N_list, alpha_int_list_2, ub_alpha_int_list_2):\n",
    "    if alpha is not None:\n",
    "        print(f\"{N} & $({alpha:.8f}, {ub_alpha:.8f}]$ \\\\\\\\\")\n",
    "print(\"\\\\end{tabular}\")\n"
   ]
  },
  {
   "attachments": {},
   "cell_type": "markdown",
   "metadata": {},
   "source": [
    "Low effort visualization of above table:"
   ]
  },
  {
   "cell_type": "code",
   "execution_count": 337,
   "metadata": {},
   "outputs": [
    {
     "data": {
      "text/plain": [
       "<matplotlib.lines.Line2D at 0x7f8367ff7370>"
      ]
     },
     "execution_count": 337,
     "metadata": {},
     "output_type": "execute_result"
    },
    {
     "data": {
      "image/png": "[encoded data removed]",
      "text/plain": [
       "<Figure size 432x288 with 1 Axes>"
      ]
     },
     "metadata": {},
     "output_type": "display_data"
    }
   ],
   "source": [
    "plt.plot(N_list, alpha_int_list_2, label=\"Lower bound\")\n",
    "plt.axhline(y = alphas[0], color = 'r', linestyle = '-')\n",
    "plt.axhline(y = alphas[-1], color = 'g', linestyle = '-')"
   ]
  },
  {
   "cell_type": "code",
   "execution_count": 374,
   "metadata": {},
   "outputs": [
    {
     "name": "stdout",
     "output_type": "stream",
     "text": [
      "0.03162263331617051\n",
      "0.03163845628657931\n",
      "0.03162277660168379\n"
     ]
    }
   ],
   "source": [
    "# Verify reasonable results\n",
    "c, res, ms = lp(1000, 1.51798525)\n",
    "print(min(res.x))\n",
    "print(res.x[-2])\n",
    "print(1/1000**(1/2))"
   ]
  },
  {
   "attachments": {},
   "cell_type": "markdown",
   "metadata": {},
   "source": [
    "Plot of found weights vs integral weight from continuous case"
   ]
  },
  {
   "cell_type": "code",
   "execution_count": 380,
   "metadata": {},
   "outputs": [
    {
     "data": {
      "image/png": "[encoded data removed]",
      "text/plain": [
       "<Figure size 432x288 with 1 Axes>"
      ]
     },
     "metadata": {},
     "output_type": "display_data"
    }
   ],
   "source": [
    "N = 20\n",
    "alpha = 1.65\n",
    "c, res, ms = lp(N, alpha)\n",
    "continuous = np.linspace(1, N+1, 1000)\n",
    "plt.scatter(ms, res.x, s=8, color='black')\n",
    "plt.plot(continuous, continuous**(-1/2))\n",
    "plt.xticks(np.arange(2, N+1, 2.0))\n",
    "plt.show()\n",
    "\n",
    "# cont = ms**alpha-\n"
   ]
  },
  {
   "cell_type": "code",
   "execution_count": null,
   "metadata": {},
   "outputs": [],
   "source": [
    "N = 20\n",
    "alphas = []\n",
    "c, res, ms = lp(N, alpha)\n",
    "continuous = np.linspace(1, N+1, 1000)\n",
    "plt.scatter(ms, res.x, s=8, color='black')\n",
    "plt.plot(continuous, continuous**(-1/2))\n",
    "plt.xticks(np.arange(2, N+1, 2.0))\n",
    "plt.show()"
   ]
  },
  {
   "cell_type": "code",
   "execution_count": 190,
   "metadata": {},
   "outputs": [
    {
     "name": "stdout",
     "output_type": "stream",
     "text": [
      "[1.02446177]\n"
     ]
    }
   ],
   "source": [
    "c, res, ms = lp(1, 1.5)\n",
    "print(res.x)"
   ]
  },
  {
   "cell_type": "code",
   "execution_count": 37,
   "metadata": {},
   "outputs": [
    {
     "name": "stdout",
     "output_type": "stream",
     "text": [
      "[7.75961067e-09 5.08741909e-09]\n"
     ]
    }
   ],
   "source": [
    "print(res.x)"
   ]
  },
  {
   "cell_type": "code",
   "execution_count": 191,
   "metadata": {},
   "outputs": [
    {
     "name": "stdout",
     "output_type": "stream",
     "text": [
      "1.024537988119786\n"
     ]
    }
   ],
   "source": [
    "print(3 * (np.sqrt(2)/8 + np.sqrt(3)/27 + 103/1024))"
   ]
  },
  {
   "cell_type": "code",
   "execution_count": null,
   "metadata": {},
   "outputs": [],
   "source": []
  },
  {
   "attachments": {},
   "cell_type": "markdown",
   "metadata": {},
   "source": [
    "# experimental"
   ]
  },
  {
   "cell_type": "code",
   "execution_count": 15,
   "metadata": {},
   "outputs": [],
   "source": [
    "def lp_experimental(N, alpha, goal_fn = lambda alph: 2/alph):\n",
    "    \"\"\"Solves linear program specified by Schur test for the kernel $K_alpha$ truncated to N terms.\"\"\"\n",
    "    goal = goal_fn(alpha)\n",
    "\n",
    "    ms = np.arange(1, N+1)\n",
    "    truncated_zeta = zeta(alpha + 1) - sum(1/ms**(alpha+1))\n",
    "    ubs = -ms**(alpha - 1/2) * truncated_zeta\n",
    "\n",
    "    B = create_A(alpha, N) - np.diag(goal * np.ones(N))\n",
    "\n",
    "    c = ms**(alpha - 1/2) \n",
    "    res = linprog(c, A_ub=B, b_ub=ubs)\n",
    "    return c, res, ms\n",
    "\n",
    "\n",
    "def requirement_experimental(N, alpha, brevig_bound=False, goal_fn = lambda alph: 2/alph):\n",
    "    \"\"\"Gives upper bound on c @ x where x is the solution to the linear program. If it is not \n",
    "     an upper bound, then the full linear program is unfeasible. \"\"\"\n",
    "    if brevig_bound:\n",
    "        term1 = - alpha/6 * (N+1)**(alpha - 2) + (3-alpha)*(5-alpha)*(6-alpha)*(8+alpha)/(720*alpha)\n",
    "        term2 = sum(n**(alpha - 1) for n in range(1, N+1))\n",
    "        return term1 + term2\n",
    "    else:\n",
    "        ssum = zeta(alpha + 1) - sum(1/n**(alpha+1) for n in range(1, N+1))\n",
    "        return (N+1)**alpha * (goal_fn(alpha)- (N+1)**(alpha) * ssum)\n",
    "\n",
    " \n",
    "def compare_experimental(N, alphas, brevig_bound=False, goal_fn = lambda alph: 2/alph):\n",
    "    \"\"\"returns list of c @ x and upper bounds for each alpha. If c @ x > upper bound, then the\n",
    "    full linear program is unfeasible.\"\"\"\n",
    "    reqs = []\n",
    "    found = []\n",
    "    for alpha in alphas:\n",
    "        c, res, ms = lp_experimental(N, alpha, goal_fn)\n",
    "        reqs.append(requirement_experimental(N, alpha, brevig_bound, goal_fn))\n",
    "        found.append(c @ res.x)\n",
    "\n",
    "    return reqs, found\n",
    "\n",
    "def find_intersection_experimental(N, alphas, brevig_bound=False, goal_fn = lambda alph: 2/alph):\n",
    "    \"\"\"Finds point of intersection for requirement, c@x. The ntersection is the point where \n",
    "    the linear program starts to fail in showing C_alpha = 2/alpha\"\"\"\n",
    "    reqs, found = compare_experimental(N, alphas, brevig_bound, goal_fn)\n",
    "\n",
    "    for i in range(len(reqs)):\n",
    "        if found[i] > reqs[i]:\n",
    "            if i == 0:\n",
    "                return None\n",
    "            else:\n",
    "                return alphas[i-1]\n",
    "    return None\n"
   ]
  },
  {
   "cell_type": "markdown",
   "metadata": {},
   "source": [
    "Example showcasing what the intersection is\n"
   ]
  },
  {
   "cell_type": "code",
   "execution_count": 10,
   "metadata": {},
   "outputs": [
    {
     "data": {
      "image/png": "[encoded data removed]",
      "text/plain": [
       "<Figure size 432x288 with 1 Axes>"
      ]
     },
     "metadata": {},
     "output_type": "display_data"
    },
    {
     "name": "stdout",
     "output_type": "stream",
     "text": [
      "Difference between zeta requirement, Brevig requirement: 0.00021034624498739163\n"
     ]
    }
   ],
   "source": [
    "# N = 10\n",
    "# alphas = np.linspace(1.5, 1.55, 20)\n",
    "# reqs, found = compare_experimental(N, alphas)\n",
    "# brevig_reqs, _ = compare_experimental(N, alphas, True)\n",
    "# plt.plot(alphas, reqs, label=\"Requirement\")\n",
    "# # plt.plot(alphas, brevig_reqs, label=\"Brevig Requirement\")\n",
    "# plt.plot(alphas, found, label=\"Found\")\n",
    "# plt.legend()\n",
    "# plt.show()\n",
    "# print(\"Difference between zeta requirement, Brevig requirement:\",\n",
    "#       min([abs(x -y) for x, y in zip(reqs, brevig_reqs)]))"
   ]
  },
  {
   "cell_type": "code",
   "execution_count": 68,
   "metadata": {},
   "outputs": [
    {
     "data": {
      "image/png": "[encoded data removed]",
      "text/plain": [
       "<Figure size 432x288 with 1 Axes>"
      ]
     },
     "metadata": {},
     "output_type": "display_data"
    },
    {
     "name": "stdout",
     "output_type": "stream",
     "text": [
      "Difference between zeta requirement, Brevig requirement: 10.150448640330637\n"
     ]
    }
   ],
   "source": [
    "N = 100\n",
    "alphas = np.linspace(1.5, 1.62, 20)\n",
    "# eps = 1e-2#0#1e-1\n",
    "reqs, found = compare_experimental(N, alphas, goal_fn = lambda alph: 2/alph + eps)\n",
    "brevig_reqs, _ = compare_experimental(N, alphas, True)\n",
    "plt.plot(alphas, reqs, label=\"Requirement\")\n",
    "# plt.plot(alphas, brevig_reqs, label=\"Brevig Requirement\")\n",
    "plt.plot(alphas, found, label=\"Found\")\n",
    "plt.legend()\n",
    "plt.show()\n",
    "print(\"Difference between zeta requirement, Brevig requirement:\",\n",
    "      min([abs(x -y) for x, y in zip(reqs, brevig_reqs)]))"
   ]
  },
  {
   "cell_type": "code",
   "execution_count": 35,
   "metadata": {},
   "outputs": [
    {
     "name": "stdout",
     "output_type": "stream",
     "text": [
      "1.3227513227513228\n"
     ]
    }
   ],
   "source": [
    "print(2/1.512)"
   ]
  },
  {
   "cell_type": "code",
   "execution_count": 43,
   "metadata": {},
   "outputs": [],
   "source": [
    "# A = create_A(1.52, 4000)\n",
    "# print(max(np.linalg.eig(A)[0]))\n",
    "max_vals = []\n",
    "for N in [1, 2, 4, 8, 16, 32, 64, 128, 256, 512, 1024, 2048, 4096, 8192]:\n",
    "    A = create_A(1.52, N)\n",
    "    max_vals.append(max(np.linalg.eig(A)[0]))\n"
   ]
  },
  {
   "cell_type": "code",
   "execution_count": 44,
   "metadata": {},
   "outputs": [
    {
     "name": "stdout",
     "output_type": "stream",
     "text": [
      "1.0\n",
      "1.101128088043762\n",
      "1.1697955629661005\n",
      "1.213694322496567\n",
      "1.2417125382131577\n",
      "1.2600886720727893\n",
      "1.2725820417704465\n",
      "1.2813837256516192\n",
      "1.2877869872906\n",
      "1.2925776183015423\n",
      "1.2962492345758942\n",
      "1.2991222393320574\n",
      "1.3014110216760235\n",
      "1.3032630319906797\n"
     ]
    }
   ],
   "source": [
    "print(*max_vals, sep=\"\\n\")"
   ]
  },
  {
   "cell_type": "code",
   "execution_count": 62,
   "metadata": {},
   "outputs": [
    {
     "name": "stdout",
     "output_type": "stream",
     "text": [
      "1.3157894736842106\n"
     ]
    }
   ],
   "source": [
    "print(2/1.52)"
   ]
  },
  {
   "cell_type": "code",
   "execution_count": 87,
   "metadata": {},
   "outputs": [
    {
     "name": "stdout",
     "output_type": "stream",
     "text": [
      "1.3032630319906797\n"
     ]
    }
   ],
   "source": [
    "print(max_vals[-1])"
   ]
  },
  {
   "cell_type": "code",
   "execution_count": 53,
   "metadata": {},
   "outputs": [
    {
     "name": "stdout",
     "output_type": "stream",
     "text": [
      "0.10112808804376194\n",
      "0.0686674749223386\n",
      "0.04389875953046651\n",
      "0.02801821571659069\n",
      "0.01837613385963155\n",
      "0.012493369697657242\n",
      "0.00880168388117264\n",
      "0.006403261638980862\n",
      "0.004790631010942237\n",
      "0.0036716162743519742\n",
      "0.0028730047561631444\n",
      "0.0022887823439661226\n",
      "0.001852010314656205\n"
     ]
    }
   ],
   "source": [
    "diff = [max_vals[i+1] - max_vals[i] for i in range(len(max_vals)-1)]\n",
    "print(*diff, sep=\"\\n\")"
   ]
  },
  {
   "cell_type": "code",
   "execution_count": 81,
   "metadata": {},
   "outputs": [
    {
     "name": "stdout",
     "output_type": "stream",
     "text": [
      "0.6790148637302783\n",
      "0.6392947983032002\n",
      "0.6382461831784917\n",
      "0.6558638153660269\n",
      "0.679869323606883\n",
      "0.7045083987887697\n",
      "0.7275041600480386\n",
      "0.7481548125065697\n",
      "0.7664160036466321\n",
      "0.7824904732644531\n",
      "0.7966510807391624\n",
      "0.809168385774483\n"
     ]
    }
   ],
   "source": [
    "ratio = [diff[i+1] / diff[i] for i in range(len(diff)-1)]\n",
    "print(*ratio, sep=\"\\n\")"
   ]
  },
  {
   "cell_type": "code",
   "execution_count": 54,
   "metadata": {},
   "outputs": [],
   "source": [
    "mv = np.array(max_vals)\n",
    "mv = mv - 2/1.52"
   ]
  },
  {
   "cell_type": "code",
   "execution_count": 61,
   "metadata": {},
   "outputs": [
    {
     "data": {
      "text/plain": [
       "[<matplotlib.lines.Line2D at 0x7fe378aaa080>]"
      ]
     },
     "execution_count": 61,
     "metadata": {},
     "output_type": "execute_result"
    },
    {
     "data": {
      "image/png": "[encoded data removed]",
      "text/plain": [
       "<Figure size 432x288 with 1 Axes>"
      ]
     },
     "metadata": {},
     "output_type": "display_data"
    }
   ],
   "source": [
    "plt.plot(mv)\n",
    "x = np.arange(1, len(mv)+1)\n",
    "plt.plot(x, -1/(x*30)**(1/2))"
   ]
  },
  {
   "cell_type": "code",
   "execution_count": 78,
   "metadata": {},
   "outputs": [],
   "source": [
    "alpha = 1.59\n",
    "N = 4096\n",
    "A = create_A(alpha, N)\n",
    "max_eigenvalue = max(np.linalg.eig(A)[0])"
   ]
  },
  {
   "cell_type": "code",
   "execution_count": 79,
   "metadata": {},
   "outputs": [
    {
     "name": "stdout",
     "output_type": "stream",
     "text": [
      "1.257059447206426\n",
      "1.2578616352201257\n"
     ]
    }
   ],
   "source": [
    "print(max_eigenvalue)\n",
    "print(2/alpha)"
   ]
  },
  {
   "cell_type": "code",
   "execution_count": 84,
   "metadata": {},
   "outputs": [],
   "source": [
    "# A = create_A(1.52, 4000)\n",
    "# print(max(np.linalg.eig(A)[0]))\n",
    "alpha_star = 1.55\n",
    "max_vals_star = []\n",
    "for N in [1, 2, 4, 8, 16, 32, 64, 128, 256, 512, 1024, 2048]:\n",
    "    A = create_A(alpha_star, N)\n",
    "    max_vals_star.append(max(np.linalg.eig(A)[0]))"
   ]
  },
  {
   "cell_type": "code",
   "execution_count": 86,
   "metadata": {},
   "outputs": [
    {
     "name": "stdout",
     "output_type": "stream",
     "text": [
      "0.0023588305790975816\n",
      "1.2797586786442419\n",
      "1.2903225806451613\n",
      "\n",
      "0.6682086323186814\n",
      "0.6282852816431533\n",
      "0.6271866016755426\n",
      "0.6447923821378644\n",
      "0.6687687887996165\n",
      "0.6933446010330154\n",
      "0.7162431333643515\n",
      "0.7367682463448593\n",
      "0.754881937872623\n",
      "0.7707924212227485\n"
     ]
    }
   ],
   "source": [
    "diff_star = [max_vals_star[i+1] - max_vals_star[i] for i in range(len(max_vals_star)-1)]\n",
    "ratio_star = [diff_star[i+1] / diff_star[i] for i in range(len(diff_star)-1)]\n",
    "print(diff_star[-1])\n",
    "print(max_vals_star[-1])\n",
    "print(2/alpha_star)\n",
    "print()\n",
    "print(*ratio_star, sep=\"\\n\")"
   ]
  },
  {
   "cell_type": "code",
   "execution_count": 89,
   "metadata": {},
   "outputs": [
    {
     "name": "stdout",
     "output_type": "stream",
     "text": [
      "4.347826086956522\n",
      "0.010222499999999999\n"
     ]
    }
   ],
   "source": [
    "print(1/(1 - 0.77))\n",
    "print(4.35 * 0.00235)"
   ]
  }
 ],
 "metadata": {
  "kernelspec": {
   "display_name": "Python 3",
   "language": "python",
   "name": "python3"
  },
  "language_info": {
   "codemirror_mode": {
    "name": "ipython",
    "version": 3
   },
   "file_extension": ".py",
   "mimetype": "text/x-python",
   "name": "python",
   "nbconvert_exporter": "python",
   "pygments_lexer": "ipython3",
   "version": "3.10.6"
  },
  "orig_nbformat": 4
 },
 "nbformat": 4,
 "nbformat_minor": 2
}
