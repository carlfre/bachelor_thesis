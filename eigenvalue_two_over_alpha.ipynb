{
 "cells": [
  {
   "cell_type": "code",
   "execution_count": 1,
   "metadata": {},
   "outputs": [],
   "source": [
    "import numpy as np\n",
    "import matplotlib.pyplot as plt\n",
    "import seaborn as sns\n",
    "\n",
    "sns.set_theme()"
   ]
  },
  {
   "cell_type": "code",
   "execution_count": 2,
   "metadata": {},
   "outputs": [],
   "source": [
    "def create_K_alpha(alpha):\n",
    "    def K(x, y):\n",
    "        x+=1\n",
    "        y+=1\n",
    "        return (1 / np.sqrt(x*y)) * ((x*y)**alpha / np.maximum(x, y)**(2*alpha))\n",
    "    return K\n",
    "\n",
    "def create_A(alpha, N):\n",
    "    K_alpha = create_K_alpha(alpha)\n",
    "\n",
    "    A = np.fromfunction(K_alpha, (N, N))\n",
    "    return A\n",
    "\n",
    "def max_eigs(N, alphas):\n",
    "    max_eigvals = []\n",
    "    max_eigvecs = []\n",
    "    for alpha in alphas:\n",
    "        A = create_A(alpha, N)\n",
    "        eigvals, eigvecs = np.linalg.eigh(A)\n",
    "        amax = np.argmax(eigvals)\n",
    "        max_eigvals.append(eigvals[amax])\n",
    "        maxvec = eigvecs[:, amax]\n",
    "        maxvec /= maxvec[0]\n",
    "        max_eigvecs.append(maxvec)\n",
    "        # print(eigvecs)\n",
    "    return np.array(max_eigvals), max_eigvecs\n",
    "\n",
    "\n",
    "alphas = np.array([4, 5])\n",
    "N = 4\n"
   ]
  },
  {
   "cell_type": "code",
   "execution_count": 4,
   "metadata": {},
   "outputs": [],
   "source": [
    "N = 1000\n",
    "alphas = np.linspace(1, 2, 101)\n",
    "max_vals, _ = max_eigs(N, alphas)"
   ]
  },
  {
   "cell_type": "code",
   "execution_count": 11,
   "metadata": {},
   "outputs": [
    {
     "name": "stdout",
     "output_type": "stream",
     "text": [
      "lambda> alpha/2 for alpha=1.6099999999999999\n"
     ]
    }
   ],
   "source": [
    "for i in range(len(alphas)):\n",
    "    max_val = max_vals[i]\n",
    "    alpha = alphas[i]\n",
    "\n",
    "    if max_val > 2/alpha:\n",
    "        print(f\"lambda> alpha/2 for alpha={alpha}\")\n",
    "        alpha_break = alpha\n",
    "        eigval_break = max_val\n",
    "        break"
   ]
  },
  {
   "cell_type": "code",
   "execution_count": 34,
   "metadata": {},
   "outputs": [
    {
     "data": {
      "image/png": "[encoded data removed]",
      "text/plain": [
       "<Figure size 432x288 with 1 Axes>"
      ]
     },
     "metadata": {},
     "output_type": "display_data"
    }
   ],
   "source": [
    "plt.plot(alphas, max_vals, label=\"$\\lambda_{max}^N $\")\n",
    "plt.plot(alphas, 2/alphas, label=\"2/$\\\\alpha$\")\n",
    "plt.xlabel(\"$\\\\alpha$\")\n",
    "# add in point where lambda = alpha/2\n",
    "plt.plot(alpha_break, eigval_break, 'ro')\n",
    "\n",
    "# annotate source: https://www.tutorialspoint.com/writing-numerical-values-on-the-plot-with-matplotlib\n",
    "plt.annotate(\n",
    "      f\"$\\\\alpha={alpha_break:.2f}$\",\n",
    "      xy=(alpha_break, eigval_break), xytext=(40, 20),\n",
    "      textcoords='offset points', ha='right', va='bottom',\n",
    "      bbox=dict(boxstyle='round,pad=0.5', fc='yellow', alpha=0.5),\n",
    "      arrowprops=dict(arrowstyle='->', connectionstyle='arc3,rad=0', color=\"red\"))\n",
    "# plt.title(\"$\\lambda_{max}^N $ vs. $2/\\\\alpha$\")\n",
    "plt.legend()\n",
    "plt.savefig(\"plots/eigenvalue_two_over_alpha.pdf\")\n",
    "plt.show()"
   ]
  },
  {
   "cell_type": "code",
   "execution_count": 6,
   "metadata": {},
   "outputs": [
    {
     "name": "stdout",
     "output_type": "stream",
     "text": [
      "lambda> alpha/2 for alpha=1.6099999999999999\n"
     ]
    }
   ],
   "source": []
  },
  {
   "cell_type": "code",
   "execution_count": 8,
   "metadata": {},
   "outputs": [
    {
     "name": "stdout",
     "output_type": "stream",
     "text": [
      "[1.2240878406144449, 1.2785773359036763, 1.2857242937870679, 1.2910207600796755, 1.2950470079247567, 1.2981754009474908, 1.300652493298374, 1.3026462625671036]\n"
     ]
    }
   ],
   "source": [
    "N_list = [10, 100, 200, 400, 800, 1600, 3200]\n",
    "# alphas = np.linspace(1, 2, 101)\n",
    "# max_vals, _ = max_eigs(N, alphas)\n",
    "found_eigenvalues = []\n",
    "alphas = np.array([1.52])\n",
    "for N in N_list:\n",
    "    max_vals, _ = max_eigs(N, alphas)\n",
    "    found_eigenvalues.append(max_vals[0])\n",
    "\n",
    "print(found_eigenvalues)\n",
    "alpha = alphas[0]"
   ]
  },
  {
   "cell_type": "code",
   "execution_count": 12,
   "metadata": {},
   "outputs": [
    {
     "data": {
      "text/plain": [
       "[<matplotlib.lines.Line2D at 0x7f9d01e45c30>]"
      ]
     },
     "execution_count": 12,
     "metadata": {},
     "output_type": "execute_result"
    },
    {
     "data": {
      "image/png": "[encoded data removed]",
      "text/plain": [
       "<Figure size 432x288 with 1 Axes>"
      ]
     },
     "metadata": {},
     "output_type": "display_data"
    }
   ],
   "source": [
    "plt.loglog(N_list, found_eigenvalues)\n",
    "plt.plot(N_list, len(N_list) * [alpha])"
   ]
  },
  {
   "cell_type": "code",
   "execution_count": null,
   "metadata": {},
   "outputs": [],
   "source": []
  }
 ],
 "metadata": {
  "kernelspec": {
   "display_name": "Python 3",
   "language": "python",
   "name": "python3"
  },
  "language_info": {
   "codemirror_mode": {
    "name": "ipython",
    "version": 3
   },
   "file_extension": ".py",
   "mimetype": "text/x-python",
   "name": "python",
   "nbconvert_exporter": "python",
   "pygments_lexer": "ipython3",
   "version": "3.10.6"
  },
  "orig_nbformat": 4
 },
 "nbformat": 4,
 "nbformat_minor": 2
}
