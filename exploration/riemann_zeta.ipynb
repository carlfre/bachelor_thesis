{
 "cells": [
  {
   "cell_type": "code",
   "execution_count": 2,
   "metadata": {},
   "outputs": [],
   "source": [
    "import numpy as np\n",
    "from scipy.special import zeta\n",
    "import matplotlib.pyplot as plt"
   ]
  },
  {
   "cell_type": "code",
   "execution_count": 85,
   "metadata": {},
   "outputs": [],
   "source": [
    "def partial_sum(m, alpha):\n",
    "    return sum(1/n**(2*alpha) for n in range(1, m+1))\n",
    "\n",
    "def difference(m, alpha):\n",
    "    return zeta(2*alpha) - partial_sum(m, alpha)\n",
    "\n",
    "def upper_bound(m, alpha):\n",
    "    b = 1.1\n",
    "    return b* 4**(-alpha) * m**(-alpha + 1/2)\n",
    "\n",
    "\n"
   ]
  },
  {
   "cell_type": "code",
   "execution_count": 64,
   "metadata": {},
   "outputs": [
    {
     "name": "stdout",
     "output_type": "stream",
     "text": [
      "1.0\n"
     ]
    }
   ],
   "source": [
    "print(partial_sum(1, 2))"
   ]
  },
  {
   "cell_type": "code",
   "execution_count": 65,
   "metadata": {},
   "outputs": [
    {
     "name": "stdout",
     "output_type": "stream",
     "text": [
      "1.6449340668482264\n"
     ]
    }
   ],
   "source": [
    "print(zeta(2))"
   ]
  },
  {
   "cell_type": "code",
   "execution_count": 86,
   "metadata": {},
   "outputs": [
    {
     "name": "stdout",
     "output_type": "stream",
     "text": [
      "-0.013573233711138138\n"
     ]
    },
    {
     "data": {
      "image/png": "[encoded data removed]",
      "text/plain": [
       "<Figure size 432x288 with 1 Axes>"
      ]
     },
     "metadata": {
      "needs_background": "light"
     },
     "output_type": "display_data"
    },
    {
     "name": "stdout",
     "output_type": "stream",
     "text": [
      "9.09494701772929e-14\n"
     ]
    }
   ],
   "source": [
    "m = 1\n",
    "alphas = np.linspace(2, 20, 10)\n",
    "diffs = []\n",
    "ubs = []\n",
    "for alpha in alphas:\n",
    "    diffs.append(difference(m, alpha))\n",
    "    ubs.append(upper_bound(m, alpha))\n",
    "\n",
    "plt.plot(alphas, diffs, label='difference')\n",
    "plt.plot(alphas, ubs, label='upper bound')\n",
    "print(min(ub - diff for ub, diff in zip(ubs, diffs)))\n",
    "plt.legend()\n",
    "plt.show()\n",
    "print(ubs[-1] - diffs[-1])"
   ]
  },
  {
   "cell_type": "code",
   "execution_count": null,
   "metadata": {},
   "outputs": [],
   "source": [
    "alpha = 100\n",
    "ms = []\n",
    "diffs = []\n",
    "ubs = []\n",
    "for m in range(200, 201):\n",
    "    ms.append(m)\n",
    "    diffs.append(difference(m, alpha))\n",
    "    ubs.append(upper_bound(m, alpha))\n",
    "\n",
    "plt.plot(ms, diffs, label='difference')\n",
    "plt.plot(ms, ubs, label='upper bound')\n",
    "print(min(ub - diff for ub, diff in zip(ubs, diffs)))\n",
    "plt.legend()\n",
    "plt.show()\n",
    "print()"
   ]
  },
  {
   "cell_type": "code",
   "execution_count": 53,
   "metadata": {},
   "outputs": [
    {
     "name": "stdout",
     "output_type": "stream",
     "text": [
      "1.06428096432584\n"
     ]
    }
   ],
   "source": [
    "print(zeta(4.3))"
   ]
  },
  {
   "cell_type": "code",
   "execution_count": 87,
   "metadata": {},
   "outputs": [],
   "source": [
    "\n",
    "\n",
    "import numpy as np\n",
    "import matplotlib.pyplot as plt\n",
    "from scipy.special import zeta"
   ]
  },
  {
   "cell_type": "code",
   "execution_count": 96,
   "metadata": {},
   "outputs": [
    {
     "name": "stdout",
     "output_type": "stream",
     "text": [
      "5 2\n",
      "6 2\n",
      "7 2\n",
      "8 3\n",
      "9 3\n",
      "10 3\n"
     ]
    },
    {
     "data": {
      "image/png": "[encoded data removed]",
      "text/plain": [
       "<Figure size 432x288 with 1 Axes>"
      ]
     },
     "metadata": {
      "needs_background": "light"
     },
     "output_type": "display_data"
    }
   ],
   "source": [
    "def partial_sum(m, s):\n",
    "    return sum(1/n**(s) for n in range(1, m+1))\n",
    "\n",
    "\n",
    "def f(m, s):\n",
    "    return zeta(s) - partial_sum(m, s)\n",
    "\n",
    "def upper_bound(m, s): \n",
    "    k = int(np.log2(m+1))\n",
    "    print(m+1, k)\n",
    "    return 2**(-(k-1)*s) / (1 - 2**(-s))\n",
    "\n",
    "s = 4\n",
    "ms = [*range(4, 10)]\n",
    "\n",
    "fs = []\n",
    "ubs = []\n",
    "for m in ms:\n",
    "    fs.append(f(m, s))\n",
    "    ubs.append(upper_bound(m, s))\n",
    "\n",
    "plt.plot(ms, fs, label='val')\n",
    "plt.plot(ms, ubs, label='upper bound')\n",
    "plt.legend()\n",
    "plt.show()"
   ]
  }
 ],
 "metadata": {
  "kernelspec": {
   "display_name": "Python 3",
   "language": "python",
   "name": "python3"
  },
  "language_info": {
   "codemirror_mode": {
    "name": "ipython",
    "version": 3
   },
   "file_extension": ".py",
   "mimetype": "text/x-python",
   "name": "python",
   "nbconvert_exporter": "python",
   "pygments_lexer": "ipython3",
   "version": "3.10.6"
  },
  "orig_nbformat": 4
 },
 "nbformat": 4,
 "nbformat_minor": 2
}
