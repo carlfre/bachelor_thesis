{
 "cells": [
  {
   "cell_type": "code",
   "execution_count": 3,
   "metadata": {},
   "outputs": [
    {
     "name": "stdout",
     "output_type": "stream",
     "text": [
      "0.0\n",
      "0.16666666666666666\n",
      "0.13333333333339076\n",
      "0.15714285714291312\n",
      "0.12380952380958012\n",
      "0.19956709956715574\n"
     ]
    }
   ],
   "source": [
    "from scipy.special import bernoulli\n",
    "from math import factorial\n",
    "\n",
    "def f(x, alpha):\n",
    "    return x**(-alpha - 1)\n",
    "def f_i_prime(i, x, alpha):\n",
    "    prod = 1\n",
    "    for j in range(i):\n",
    "        prod *= (-alpha - j)\n",
    "    return prod * x**(-alpha - i - 1)\n",
    "\n",
    "def S1(k, l, alpha):\n",
    "    \"\"\"Euler-Maclaurin estimation with l terms, of S(1, k)\"\"\"\n",
    "\n",
    "    \n",
    "    # Initial and final terms\n",
    "    EM = f(k+1, alpha)/2\n",
    "\n",
    "    # integral term\n",
    "    EM += (k+1)**(-alpha) / -alpha\n",
    "\n",
    "    # EM terms\n",
    "    bernoulli_nums = bernoulli(2*l)\n",
    "    for i in range(1, l+1):\n",
    "        EM -= bernoulli_nums[2*i] * f_i_prime(2*i-1, k+1, alpha) / factorial(2*i)\n",
    "    \n",
    "    return EM\n",
    "\n",
    "\n",
    "k = 0\n",
    "l = 5\n",
    "alpha = 2\n",
    "\n",
    "for l in range(6):\n",
    "    s1 = S1(k, l, alpha)\n",
    "    print(s1)\n",
    "\n",
    "\n",
    "\n",
    "\n",
    "\n",
    "\n"
   ]
  }
 ],
 "metadata": {
  "kernelspec": {
   "display_name": "Python 3",
   "language": "python",
   "name": "python3"
  },
  "language_info": {
   "codemirror_mode": {
    "name": "ipython",
    "version": 3
   },
   "file_extension": ".py",
   "mimetype": "text/x-python",
   "name": "python",
   "nbconvert_exporter": "python",
   "pygments_lexer": "ipython3",
   "version": "3.10.6"
  },
  "orig_nbformat": 4
 },
 "nbformat": 4,
 "nbformat_minor": 2
}
